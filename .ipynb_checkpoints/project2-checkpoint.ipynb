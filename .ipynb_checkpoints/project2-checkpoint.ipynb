{
 "cells": [
  {
   "cell_type": "markdown",
   "metadata": {},
   "source": [
    "# COMP90051 Project 2\n",
    "**Name:** *enter your name here*\n",
    "\n",
    "**Student ID:** *your id here*"
   ]
  },
  {
   "cell_type": "code",
   "execution_count": 2,
   "metadata": {},
   "outputs": [],
   "source": [
    "# You can add additional imports here\n",
    "import copy\n",
    "import math\n",
    "import numpy as np\n",
    "from matplotlib import pyplot as plt\n",
    "import os\n",
    "import random\n",
    "from sklearn.model_selection import train_test_split\n",
    "from sklearn import preprocessing\n",
    "from collections import defaultdict\n",
    "\n",
    "from numpy.random import choice\n",
    "from typing import List, Tuple, Union, Iterable\n",
    "from scipy.cluster.hierarchy import to_tree\n",
    "from scipy.cluster.hierarchy import ClusterNode\n",
    "import warnings\n",
    "import pandas as pd\n",
    "import matplotlib.pyplot as plt\n",
    "from numpy.random import choice\n",
    "from scipy.cluster.hierarchy import linkage\n",
    "from sklearn.datasets import make_blobs\n",
    "from sklearn.model_selection import train_test_split\n",
    "from sklearn.ensemble import RandomForestClassifier\n",
    "from sklearn.ensemble import GradientBoostingClassifier\n",
    "from sklearn.linear_model import LogisticRegression\n",
    "from scipy.cluster.hierarchy import ClusterNode"
   ]
  },
  {
   "cell_type": "markdown",
   "metadata": {},
   "source": [
    "## 0. Loading the dataset"
   ]
  },
  {
   "cell_type": "code",
   "execution_count": 3,
   "metadata": {},
   "outputs": [],
   "source": [
    "# do not edit this cell\n",
    "# load the data files (download from the LMS)\n",
    "embedded_images = np.load('images.npy')\n",
    "labels = np.load('labels.npy')  # 19280 excerpts\n",
    "\n",
    "# split into pool & testing\n",
    "X_pool, X_test, y_pool, y_test = train_test_split(embedded_images, labels, \n",
    "                                                  test_size=0.5, random_state=1234, shuffle=True)\n",
    "\n",
    "# sample a seed set\n",
    "np.random.seed(1234)\n",
    "label2id = defaultdict(list)\n",
    "for i, label in enumerate(y_pool):\n",
    "    label2id[label].append(i)  # ids in each class\n",
    "seed_set = []\n",
    "for label, ids in label2id.items():\n",
    "    seed_set.extend(np.random.choice(ids, size=10, replace=False))"
   ]
  },
  {
   "cell_type": "markdown",
   "metadata": {},
   "source": [
    "## 1. Applying logistic regression"
   ]
  },
  {
   "cell_type": "code",
   "execution_count": 4,
   "metadata": {},
   "outputs": [],
   "source": [
    "from sklearn.linear_model import LogisticRegression\n",
    "\n",
    "def train_logistic_regression(X, y, **args):\n",
    "    \"\"\"\n",
    "    Train a logistic regression model on dataset (X, y) and return trained model.\n",
    "    X: matrix of real values, size n x d\n",
    "    y: vector of string labels, size n\n",
    "    args: optional arguments e.g., for hyper-parameters\n",
    "    \"\"\"\n",
    "    # your code here\n",
    "    clf = LogisticRegression(solver='liblinear')\n",
    "    clf.fit(X, y)\n",
    "    return clf"
   ]
  },
  {
   "cell_type": "code",
   "execution_count": 5,
   "metadata": {},
   "outputs": [],
   "source": [
    "def evaluate_logistic_regression_accuracy(Xt, yt, model):\n",
    "    \"\"\"\n",
    "    Apply logistic regression prediction on dataset Xt and evaluate accuracy against yt,\n",
    "    returing the accuracy results as a scalar.\n",
    "    Xt: matrix of real values, size m x d\n",
    "    yt: vector of string labels, size m\n",
    "    \"\"\"\n",
    "    # your code here\n",
    "    return model.score(Xt, yt)"
   ]
  },
  {
   "cell_type": "code",
   "execution_count": 12,
   "metadata": {},
   "outputs": [
    {
     "name": "stdout",
     "output_type": "stream",
     "text": [
      "['Alphabet_of_the_Magi' 'Anglo-Saxon_Futhorc' 'Arcadian' 'Armenian'\n",
      " 'Asomtavruli_(Georgian)' 'Balinese' 'Bengali'\n",
      " 'Blackfoot_(Canadian_Aboriginal_Syllabics)' 'Braille' 'Burmese_(Myanmar)'\n",
      " 'Cyrillic' 'Early_Aramaic' 'Futurama' 'Grantha' 'Greek' 'Gujarati'\n",
      " 'Hebrew' 'Inuktitut_(Canadian_Aboriginal_Syllabics)'\n",
      " 'Japanese_(hiragana)' 'Japanese_(katakana)' 'Korean' 'Latin'\n",
      " 'Malay_(Jawi_-_Arabic)' 'Mkhedruli_(Georgian)' 'N_Ko'\n",
      " 'Ojibwe_(Canadian_Aboriginal_Syllabics)' 'Sanskrit' 'Syriac_(Estrangelo)'\n",
      " 'Tagalog' 'Tifinagh']\n",
      "9640 9640\n"
     ]
    }
   ],
   "source": [
    "# your code here for training, evaluating & plotting results\n",
    "\n",
    "label_enc = preprocessing.LabelEncoder()\n",
    "label_enc.fit(y_pool)\n",
    "\n",
    "print(label_enc.classes_)\n",
    "y_pool = label_enc.transform(y_pool)\n",
    "y_test = label_enc.transform(y_test)\n",
    "print(len(X_pool), len(y_pool))\n",
    "# 换掉solver之后也不需要label encoder了\n",
    "#model = train_logistic_regression(X_pool, y_pool)\n",
    "\n",
    "#model = train_logistic_regression(X_pool, y_pool)\n",
    "#test_res = evaluate_logistic_regression_accuracy(X_test, y_test, model)"
   ]
  },
  {
   "cell_type": "code",
   "execution_count": 11,
   "metadata": {},
   "outputs": [
    {
     "name": "stdout",
     "output_type": "stream",
     "text": [
      "['Syriac_(Estrangelo)' 'Bengali' 'Hebrew' ... 'Malay_(Jawi_-_Arabic)'\n",
      " 'Sanskrit' 'Japanese_(hiragana)']\n"
     ]
    }
   ],
   "source": [
    "res = model.predict(X_test)\n",
    "print(res)"
   ]
  },
  {
   "cell_type": "code",
   "execution_count": 9,
   "metadata": {},
   "outputs": [
    {
     "name": "stdout",
     "output_type": "stream",
     "text": [
      "0.6006224066390041\n"
     ]
    }
   ],
   "source": [
    "test_res = evaluate_logistic_regression_accuracy(X_test, y_test, model)\n",
    "print(test_res)"
   ]
  },
  {
   "cell_type": "markdown",
   "metadata": {},
   "source": [
    "# 2. Active learning framework with Random selection"
   ]
  },
  {
   "cell_type": "code",
   "execution_count": 6,
   "metadata": {},
   "outputs": [],
   "source": [
    "def random_select(X, model, **args):\n",
    "    \"\"\"\n",
    "    Given an unlabelled dataset X, a matrix of n x d, and a model (not used)\n",
    "    returns a vector of scores of length n. Each entry reflects the priority \n",
    "    of the corresponding instance. Higher means better.\n",
    "    \"\"\"\n",
    "    # fill in\n",
    "    # The scores are all random numbers. scores.shape = [n, 1]\n",
    "    return np.random.rand(len(X))\n"
   ]
  },
  {
   "cell_type": "code",
   "execution_count": 7,
   "metadata": {},
   "outputs": [],
   "source": [
    "def pool_based_active_learning(X_pool, y_pool, seed_ids,\n",
    "                               train_func, select_func,\n",
    "                               max_size, batch_size, **args):\n",
    "    \"\"\"\n",
    "    Perform an active learning simulation, which starts by training on a seed set,\n",
    "    then iteratively applies the selection function to rank instances in the pool,\n",
    "    selects the top few instances which are included into the training set and the\n",
    "    process repeats. \n",
    "        X_pool: matrix of n x d\n",
    "        y_pool: vector of string labels, size n\n",
    "        seed_ids: initial labelled set set, as a list of indices [0..n-1] into pool\n",
    "        train_func: function which given (X, y, optional args) returns a trained model\n",
    "        select_func: function which given (X, optional args) returns a sequence of scores\n",
    "        max_size: stopping condition for active learning, when labelled data reaches given size\n",
    "        batch_size: number of instances to be labelled in each iteration\n",
    "        args: optional arguments passed to training and selection function\n",
    "    returns the sequence of trained models \n",
    "    \"\"\"\n",
    "  \n",
    "    # fill in\n",
    "    # Get the seed_set from X_pool\n",
    "    seed_ids = copy.deepcopy(seed_ids)\n",
    "    all_ids = list(range(0, len(y_pool)))\n",
    "    pool_ids = [idx for idx in range(len(X_pool)) if idx not in seed_ids]\n",
    "    \n",
    "    model = None\n",
    "    while len(seed_ids) <= max_size:\n",
    "        print(len(seed_ids), end='  ')\n",
    "        seed_X = [X_pool[idx] for idx in seed_ids]\n",
    "        seed_y = [y_pool[idx] for idx in seed_ids]\n",
    "        assert len(seed_X) == len(seed_y)\n",
    "\n",
    "        model = train_func(seed_X, seed_y)\n",
    "        scores = select_func(X_pool, model)\n",
    "        \n",
    "        score_with_ids = []\n",
    "        for i, val in enumerate(scores):\n",
    "            score_with_ids.append([val, i])\n",
    "        #sorted(score_with_ids, reverse=True)\n",
    "        \n",
    "        # Only add those not-exist in seed_ids from score_with_idx into seed_ids\n",
    "        select_for_seed(seed_ids, score_with_ids, batch_size)\n",
    "        \n",
    "    return model, seed_ids\n",
    "            \n",
    "def select_for_seed(seed_ids, score_with_ids, batch_size):\n",
    "    count = 0\n",
    "    score_with_ids = sorted(score_with_ids, reverse=True)\n",
    "    #print(score_with_ids)\n",
    "    for elem in score_with_ids:\n",
    "        idx = elem[1]\n",
    "        if idx not in seed_ids:\n",
    "            seed_ids.append(idx)\n",
    "            count += 1\n",
    "        else:\n",
    "            continue\n",
    "        if count >= batch_size:\n",
    "            return \n",
    "    \n",
    "        \n",
    "        \n",
    "    \n",
    "        "
   ]
  },
  {
   "cell_type": "code",
   "execution_count": 28,
   "metadata": {},
   "outputs": [
    {
     "name": "stdout",
     "output_type": "stream",
     "text": [
      "300  360  420  480  540  600  "
     ]
    }
   ],
   "source": [
    "batch = 60\n",
    "max_size = 600\n",
    "models_random, seed1  = pool_based_active_learning(X_pool, y_pool, seed_set, \n",
    "                                    train_logistic_regression, random_select, \n",
    "                                    max_size, batch)"
   ]
  },
  {
   "cell_type": "code",
   "execution_count": 29,
   "metadata": {},
   "outputs": [
    {
     "name": "stdout",
     "output_type": "stream",
     "text": [
      "0.3689834024896266\n"
     ]
    }
   ],
   "source": [
    "## your code here for evaluation of accuracy and plotting of results\n",
    "test_res = evaluate_logistic_regression_accuracy(X_test, y_test, models_random)\n",
    "print(test_res)"
   ]
  },
  {
   "cell_type": "markdown",
   "metadata": {},
   "source": [
    "## 3. Uncertainty sampling"
   ]
  },
  {
   "cell_type": "code",
   "execution_count": 8,
   "metadata": {},
   "outputs": [],
   "source": [
    "from scipy.stats import entropy\n",
    "def logistic_regression_entropy_select(X, model, **args):\n",
    "    \"\"\"\n",
    "    Given an unlabelled dataset X, a matrix of n x d, and a discriminative model \n",
    "    P(y|x), returns a vector of n entropy values.\n",
    "    \"\"\"\n",
    "    # fill in\n",
    "    pass\n",
    "    # X.shape (N_samples, N_features)\n",
    "    proba = model.predict_proba(X)\n",
    "    # proba.shape (N_samples, N_classes)\n",
    "    entropy_list = []\n",
    "    for elem in proba:\n",
    "        entropy_list.append(entropy(elem))\n",
    "        \n",
    "    return entropy_list\n",
    "    "
   ]
  },
  {
   "cell_type": "code",
   "execution_count": 31,
   "metadata": {
    "scrolled": false
   },
   "outputs": [
    {
     "name": "stdout",
     "output_type": "stream",
     "text": [
      "300  360  420  480  540  600  "
     ]
    }
   ],
   "source": [
    "batch = 60\n",
    "max_size = 600\n",
    "models_us, seed2 = pool_based_active_learning(X_pool, y_pool, seed_set, \n",
    "                                 train_logistic_regression, \n",
    "                                 logistic_regression_entropy_select, \n",
    "                                 max_size, batch)"
   ]
  },
  {
   "cell_type": "code",
   "execution_count": 34,
   "metadata": {},
   "outputs": [
    {
     "name": "stdout",
     "output_type": "stream",
     "text": [
      "0.3587136929460581\n"
     ]
    }
   ],
   "source": [
    "## your code here for evaluation of accuracy and plotting of results\n",
    "test_res = evaluate_logistic_regression_accuracy(X_test, y_test, models_us)\n",
    "print(test_res)"
   ]
  },
  {
   "cell_type": "markdown",
   "metadata": {},
   "source": [
    "## 4. Query by committee"
   ]
  },
  {
   "cell_type": "code",
   "execution_count": 17,
   "metadata": {},
   "outputs": [],
   "source": [
    "# don't forget to provide function descriptive comments, like those provided in templates above\n",
    "\n",
    "def query_by_committee_vote_entropy(X, model, n_classes=30, **args):\n",
    "    \"\"\"\n",
    "    Given model, X as X_pool, compute the scores (vote entropy) on all data pieces and return.\n",
    "    \"\"\"\n",
    "    model1 = model[0]\n",
    "    model2 = model[1]\n",
    "    pred1 = model1.predict(X)\n",
    "    pred2 = model2.predict(X)\n",
    "    vote_entropy_scores = []\n",
    "    vote_count = np.zeros((len(X), n_classes))\n",
    "    for i in range(len(X)):\n",
    "        vote_count[i][pred1[i]] += 1\n",
    "        vote_count[i][pred2[i]] += 1\n",
    "        sum = 0\n",
    "        for j in range(30):\n",
    "            sum += (float(vote_count[i][j])/2.0) * math.log(float(vote_count[i][j])/2.0+0.000001)\n",
    "        sum = -1*sum\n",
    "        vote_entropy_scores.append([sum, i])\n",
    "    vote_entropy_scores = sorted(vote_entropy_scores, reverse=True)\n",
    "    # 返回entropy_scores 和 id [entropy_scores, ID] in sorted way\n",
    "    return vote_entropy_scores\n",
    "\n",
    "def query_by_committee_soft_vote_entropy(X, model, n_classes=30, **args):\n",
    "    model1 = model[0]\n",
    "    model2 = model[1]\n",
    "    proba1 = model1.predict_proba(X)\n",
    "    proba2 = model2.predict_proba(X)\n",
    "\n",
    "    soft_vote_entropy_scores = []\n",
    "    for i in range(len(proba1)):\n",
    "        P_c_yx = [(a + b)/2 for a, b in zip(proba1[i], proba2[i])]   # len(P_c_yx):n_classes\n",
    "        X_sve = 0\n",
    "        for j in range(n_classes):\n",
    "            X_sve += P_c_yx[j] * math.log(P_c_yx[j] + 0.000001)\n",
    "        X_sve = -1 * X_sve\n",
    "        soft_vote_entropy_scores.append([X_sve, i])\n",
    "        \n",
    "    soft_vote_entropy_scores =  sorted(soft_vote_entropy_scores, reverse=True)\n",
    "    print(len(soft_vote_entropy_scores))\n",
    "    return soft_vote_entropy_scores\n",
    "\n",
    "def query_by_committee_KL(X, model, n_classes=30, **args):\n",
    "    model1 = model[0]\n",
    "    model2 = model[1]\n",
    "    \n",
    "    proba1 = model1.predict_proba(X)\n",
    "    proba2 = model2.predict_proba(X)\n",
    "    \n",
    "    KL_scores = []\n",
    "    for i in range(len(proba1)):\n",
    "        # 对于第i个数据，P_c_yx\n",
    "        P_c_yx = [(a + b)/2 for a, b in zip(proba1[i], proba2[i])]\n",
    "        KL1 = 0\n",
    "        KL2 = 0\n",
    "        for j in range(n_classes):\n",
    "            KL1 += proba1[i][j] * math.log(proba1[i][j] / P_c_yx + 0.000001)\n",
    "            KL2 += proba2[i][j] * math.log(proba2[i][j] / P_c_yx + 0.000001)\n",
    "        X_kl = 1/2 * (KL1 + KL2)\n",
    "        KL_scores.append([X_kl, i])\n",
    "    return sorted(KL_scores, reverse=True)\n",
    "        "
   ]
  },
  {
   "cell_type": "code",
   "execution_count": 18,
   "metadata": {},
   "outputs": [],
   "source": [
    "def train_committee(qbc_algorithm, X, y, batch_size, max_size, X_test, y_test, **args):\n",
    "    \"\"\"\n",
    "    Query By Committe with ensemble_size=2\n",
    "    \"\"\"\n",
    "    #seed1 = random.sample(range(len(y)), 300)  # sample can't be regard as bagging\n",
    "    #seed2 = random.sample(range(len(y)), 300)\n",
    "\n",
    "    bagged1 = []\n",
    "    bagged2 = []\n",
    "    for i in range(300):\n",
    "        bagged1.append(random.choice(range(len(y))))\n",
    "        bagged2.append(random.choice(range(len(y))))\n",
    "    # Above is bagging\n",
    "    bagged_X1 = [X[idx] for idx in bagged1]\n",
    "    bagged_y1 = [y[idx] for idx in bagged1]\n",
    "    bagged_X2 = [X[idx] for idx in bagged2]\n",
    "    bagged_y2 = [y[idx] for idx in bagged2]\n",
    "    \n",
    "    model1 = train_logistic_regression(bagged_X1, bagged_y1)\n",
    "    model2 = train_logistic_regression(bagged_X2, bagged_y2)\n",
    "    \n",
    "    \n",
    "    valid_acc = []\n",
    "    # TODO: we need a for loop here\n",
    "    while len(bagged1) <= max_size:\n",
    "        assert len(bagged1) == len(bagged2)\n",
    "        score_with_ids = qbc_algorithm(X, [model1, model2])\n",
    "        print(len(bagged1), end='\\t')\n",
    "        for i in range(batch_size):\n",
    "            bagged1.append(score_with_ids[i][1])\n",
    "            bagged2.append(score_with_ids[i][1])\n",
    "        \n",
    "        bagged_X1 = [X[idx] for idx in bagged1]\n",
    "        bagged_y1 = [y[idx] for idx in bagged1]\n",
    "        bagged_X2 = [X[idx] for idx in bagged2]\n",
    "        bagged_y2 = [y[idx] for idx in bagged2]\n",
    "\n",
    "        model1 = train_logistic_regression(bagged_X1, bagged_y1)\n",
    "        model2 = train_logistic_regression(bagged_X2, bagged_y2)\n",
    "        # Test the result in test_data\n",
    "        proba1 = model1.predict_proba(X_test)\n",
    "        proba2 = model2.predict_proba(X_test)\n",
    "        correct_num = 0\n",
    "        for i in range(len(proba1)):\n",
    "            prob = [a + b for a, b in zip(proba1[i], proba2[i])]\n",
    "            pred = prob.index(max(prob))\n",
    "            if pred == y_test[i]:\n",
    "                correct_num += 1\n",
    "        valid_acc.append(float(correct_num)/float(len(proba1)))\n",
    "        print(float(correct_num)/float(len(proba1)))\n",
    "    return valid_acc"
   ]
  },
  {
   "cell_type": "code",
   "execution_count": null,
   "metadata": {},
   "outputs": [
    {
     "name": "stdout",
     "output_type": "stream",
     "text": [
      "300\t0.3599585062240664\n",
      "360\t0.3732365145228216\n",
      "420\t0.38195020746887964\n",
      "480\t0.38983402489626556\n",
      "540\t0.39190871369294605\n",
      "600\t0.3967842323651452\n",
      "660\t0.4053941908713693\n",
      "720\t0.40892116182572613\n",
      "780\t0.4173236514522822\n",
      "840\t0.4137966804979253\n",
      "900\t0.41649377593361\n",
      "960\t0.4299792531120332\n",
      "1020\t0.43381742738589213\n",
      "1080\t0.4395228215767635\n",
      "1140\t"
     ]
    }
   ],
   "source": [
    "VE_acc = train_committee(query_by_committee_vote_entropy, X_pool, y_pool, 60, 3000, X_test, y_test)"
   ]
  },
  {
   "cell_type": "code",
   "execution_count": null,
   "metadata": {},
   "outputs": [],
   "source": [
    "SVE_acc = train_committee(query_by_committee_soft_vote_entropy, X_pool, y_pool, 60, 3000, X_test, y_test)"
   ]
  },
  {
   "cell_type": "code",
   "execution_count": null,
   "metadata": {},
   "outputs": [],
   "source": [
    "KL_acc = train_committee(query_by_committee_KL, X_pool, y_pool, 60, 3000, X_test, y_test)"
   ]
  },
  {
   "cell_type": "code",
   "execution_count": null,
   "metadata": {},
   "outputs": [],
   "source": [
    "VE_acc = train_committee(query_by_committee_vote_entropy, X_pool, y_pool, 60, 3000, X_test, y_test)\n",
    "SVE_acc = train_committee(query_by_committee_soft_vote_entropy, X_pool, y_pool, 60, 3000, X_test, y_test)\n",
    "KL_acc = train_committee(query_by_committee_KL, X_pool, y_pool, 60, 3000, X_test, y_test)"
   ]
  },
  {
   "cell_type": "code",
   "execution_count": 75,
   "metadata": {},
   "outputs": [
    {
     "data": {
      "image/png": "[encoded data removed]",
      "text/plain": [
       "<Figure size 432x288 with 1 Axes>"
      ]
     },
     "metadata": {
      "needs_background": "light"
     },
     "output_type": "display_data"
    }
   ],
   "source": [
    "# Plot the result of QBC\n",
    "\n",
    "plt.figure()\n",
    "plt.plot(index_X, VE_acc, 'g*-')\n",
    "plt.plot(index_X, SVE_acc, 'm--')\n",
    "plt.plot(index_X, KL_acc, 'r*--')\n",
    "plt.xlabel('train_set size')\n",
    "plt.ylabel('acc')\n",
    "plt.title('QBC algorithm accuracy with training set size')\n",
    "plt.show()"
   ]
  },
  {
   "cell_type": "code",
   "execution_count": 12,
   "metadata": {},
   "outputs": [
    {
     "name": "stdout",
     "output_type": "stream",
     "text": [
      "[ 0  1  2  3  4  5  6  7  8  9 10 11 12 13 14 15 16 17 18 19 20 21 22 23\n",
      " 24 25 26 27 28 29]\n",
      "9640 9640\n"
     ]
    }
   ],
   "source": [
    "# To format the label, transfer all text labels into integer labels\n",
    "label_enc = preprocessing.LabelEncoder()\n",
    "label_enc.fit(y_pool)\n",
    "\n",
    "print(label_enc.classes_)\n",
    "y_pool = label_enc.transform(y_pool)\n",
    "y_test = label_enc.transform(y_test)\n",
    "print(len(X_pool), len(y_pool))"
   ]
  },
  {
   "cell_type": "markdown",
   "metadata": {},
   "source": [
    "## 5. Hierarchical sampling"
   ]
  },
  {
   "cell_type": "code",
   "execution_count": 1,
   "metadata": {},
   "outputs": [],
   "source": [
    "\"\"\"\n",
    "Created on Mon Mar  1 22:42:04 2021\n",
    "\n",
    "@author: Haotian Teng\n",
    "\"\"\"\n",
    "import numpy as np\n",
    "from numpy.random import choice\n",
    "from typing import List, Tuple, Union, Iterable\n",
    "from scipy.cluster.hierarchy import to_tree\n",
    "from scipy.cluster.hierarchy import ClusterNode\n",
    "class HierarchicalSampling(object):\n",
    "    def __init__(self,linkage:np.ndarray, n_samples:int, n_class:int):\n",
    "        \"\"\"\n",
    "        Implmentation of Hierarchical Sampling for Active Learning:\n",
    "        https://icml.cc/Conferences/2008/papers/324.pdf\n",
    "\n",
    "        Parameters\n",
    "        ----------\n",
    "        linkage : np.ndarray\n",
    "            A linkage matrix from scipy.cluster.hierarchy.linkage.\n",
    "        n_samples : int\n",
    "            Number of samples.\n",
    "        n_class : int\n",
    "            Number of classes.\n",
    "\n",
    "        Returns\n",
    "        -------\n",
    "        An instance for hierarchical sampling method.\n",
    "\n",
    "        \"\"\"\n",
    "        self.n_samples = n_samples\n",
    "        self.n_class = n_class\n",
    "        self.btree, self.node_list = self._construct_btree(linkage)\n",
    "        self.lc = np.array([x.count for x in self.node_list],dtype = np.int)\n",
    "        self.n_nodes = len(self.node_list)\n",
    "        self.major_label = np.zeros(self.n_nodes,dtype = np.int)\n",
    "        self.c = np.zeros((self.n_nodes,n_class)) \n",
    "        #the count of each class in points sampled from node.\n",
    "        self.p = np.zeros((self.n_nodes,n_class))\n",
    "        #the fraction of each class in points sampled from node.\n",
    "        self.sampled = np.zeros(self.n_nodes)\n",
    "        #the number of points sampled in the subtree rooted at each node.\n",
    "        self.A = np.zeros((self.n_nodes,n_class),dtype = bool)\n",
    "        #the admmisible score of node i and label l.\n",
    "        self.p_LB = np.zeros((self.n_nodes,n_class))\n",
    "        #the lower bound of the probability for node i and label l.\n",
    "    def _construct_btree(self,linkage):\n",
    "        btree, node_list = to_tree(linkage,rd = True)\n",
    "        btree.parent = None\n",
    "        for node in node_list:\n",
    "            if node.left:\n",
    "                node.left.parent = node \n",
    "            if node.right:\n",
    "                node.right.parent = node\n",
    "            node.sampled = 0\n",
    "            if node.is_leaf():\n",
    "                node.queryed = False\n",
    "        return btree, node_list\n",
    "    \n",
    "    @property\n",
    "    def leaves_count(self):\n",
    "        return self.lc\n",
    "    \n",
    "    def get_leaves(self, node:Union[ClusterNode,int],leaves:List[ClusterNode] = None)-> List:\n",
    "        \"\"\"\n",
    "        Get the list of leaves node under the subtree.\n",
    "\n",
    "        Parameters\n",
    "        ----------\n",
    "        node : Union[ClusterNode,int]\n",
    "            The root node of the subtree.\n",
    "\n",
    "        Returns\n",
    "        -------\n",
    "        List\n",
    "            A list contain the leaves nodes.\n",
    "\n",
    "        \"\"\"\n",
    "        node = self.node_list[node] if not isinstance(node,ClusterNode) else node\n",
    "        if not leaves:\n",
    "            leaves = []\n",
    "        if node.is_leaf():\n",
    "            leaves.append(node)\n",
    "            return leaves\n",
    "        else:\n",
    "            leaves = self.get_leaves(node.left,leaves)\n",
    "            leaves = self.get_leaves(node.right,leaves)\n",
    "            return leaves\n",
    "            \n",
    "    def update_empirical(self,\n",
    "                          current:Union[ClusterNode,int], \n",
    "                          subroot:Union[ClusterNode,int],\n",
    "                          label:int):\n",
    "        \"\"\"\n",
    "        Update empricial count for a given label from current node u to a\n",
    "        subtree root node v.\n",
    "\n",
    "        Parameters\n",
    "        ----------\n",
    "        current : Union[ClusterNode,int]\n",
    "            The leaf node whose label gut queryed.\n",
    "        subroot : Union[ClusterNode,int]\n",
    "            The root node of the subtree pruning.\n",
    "        label : int\n",
    "            The label of current node.\n",
    "\n",
    "        Returns\n",
    "        -------\n",
    "        None.\n",
    "\n",
    "        \"\"\"\n",
    "        current = self.node_list[current] if not isinstance(current,ClusterNode) else current\n",
    "        subroot = self.node_list[subroot] if not isinstance(subroot,ClusterNode) else subroot\n",
    "        if not current.queryed:\n",
    "            current.queryed = True\n",
    "        while current and current.id <= subroot.id:\n",
    "            self.c[current.id][label]+=1\n",
    "            self.sampled[current.id] +=1\n",
    "            current = current.parent\n",
    "        self.p = self.c/self.sampled[:,None]\n",
    "    \n",
    "    def update_admissible(self,beta:float = 2.0):\n",
    "        \"\"\"\n",
    "        Update the admissible score and the upper and lower bound.\n",
    "\n",
    "        Parameters\n",
    "        ----------\n",
    "        beta : float, optional\n",
    "            The hyperparameter beta, larger the beta, higher chance to expand\n",
    "            more subtree along the tree. The default is 2.\n",
    "\n",
    "        Returns\n",
    "        -------\n",
    "        None.\n",
    "\n",
    "        \"\"\"\n",
    "        delta = 1/self.sampled[:,None]+np.sqrt(self.p*(1-self.p)/self.sampled[:,None])\n",
    "        p_LB = np.fmax(self.p-delta,0)\n",
    "        p_UB = np.fmin(self.p+delta,1)\n",
    "        for l in np.arange(self.n_class):\n",
    "            po_UB = np.delete(p_UB,l,axis = 1)\n",
    "            self.A[:,l] = np.all(p_LB[:,l][:,None]>beta*po_UB-beta+1,axis = 1)\n",
    "            # self.A[:,l] = p_LB[:,l]>1/3 #For 2 classes case.\n",
    "        e_tilde = 1-self.p\n",
    "        e_tilde[~self.A] = 1\n",
    "        self.e_tilde = e_tilde\n",
    "        self.p_LB = p_LB\n",
    "    \n",
    "    def best_pruning_and_labeling(self,\n",
    "                                  prunning:Iterable[Union[ClusterNode,int]],\n",
    "                                  beta:float = 2.0\n",
    "                                  )-> Tuple[np.ndarray,int]:\n",
    "        \"\"\"\n",
    "        Update admissible A and find the best prunning and the label for the \n",
    "        give non-leaf node.\n",
    "\n",
    "        Parameters\n",
    "        ----------\n",
    "        prunning : Iterable[Union[ClusterNode,int]]\n",
    "            The list of root of the selected subtree, the current \"prunning\".\n",
    "\n",
    "        Returns\n",
    "        -------\n",
    "        prunning_ : numpy.ndarray\n",
    "            A array given the best prunning node(s) given the subroot.\n",
    "        label : int\n",
    "            The major label of given subroot.\n",
    "\n",
    "        \"\"\"\n",
    "        e_tilde = self.e_tilde\n",
    "        prunning = [x.id if isinstance(x,ClusterNode) else x for x in prunning]\n",
    "        score = np.zeros(len(self.node_list))\n",
    "        new_prunnings = []\n",
    "        for idx, node in enumerate(self.node_list):\n",
    "            if node.is_leaf():\n",
    "                score[idx] = np.nanmin(e_tilde[idx])\n",
    "            else:\n",
    "                score_curr = np.nanmin(e_tilde[idx])\n",
    "                if np.any(self.A[idx,:]):\n",
    "                    left = node.left\n",
    "                    right = node.right\n",
    "                    score_desc = left.count/node.count * score[left.id]+\\\n",
    "                                 right.count/node.count * score[right.id]\n",
    "                    score[idx] = np.minimum(score_desc,score_curr)\n",
    "                else:\n",
    "                    score_desc = np.inf\n",
    "                    score[idx] = score_curr\n",
    "            if idx in prunning:\n",
    "                if node.is_leaf():\n",
    "                    label = np.nanargmin(e_tilde[idx])\n",
    "                    prunning_ = [idx]\n",
    "                else:\n",
    "                    label = np.nanargmin(e_tilde[idx]) if score_curr<score_desc else np.where(self.A[idx,:])[0][0]\n",
    "                    prunning_ = [idx] if score_curr<score_desc else [node.left.id,node.right.id]\n",
    "                for p in prunning_:\n",
    "                    self.major_label[p] = label\n",
    "                new_prunnings.extend(prunning_)\n",
    "        return new_prunnings\n",
    "    \n",
    "    def assign_labels(self, \n",
    "                       current:Union[ClusterNode,int], \n",
    "                       subroot:Union[ClusterNode,int]):\n",
    "        \"\"\"\n",
    "        Assign label to the current node according to the root of subtree.\n",
    "\n",
    "        Parameters\n",
    "        ----------\n",
    "        current : Union[ClusterNode,int]\n",
    "            The node assign labels begins at.\n",
    "        subroot : Union[ClusterNode,int]\n",
    "            The root of the subtree node.\n",
    "\n",
    "        Returns\n",
    "        -------\n",
    "        None.\n",
    "\n",
    "        \"\"\"\n",
    "        subroot = self.node_list[subroot] if not isinstance(subroot, ClusterNode) else subroot\n",
    "        current = self.node_list[current] if not isinstance(current, ClusterNode) else current\n",
    "        if current.is_leaf():\n",
    "            self.major_label[current.id] = self.major_label[subroot.id]\n",
    "        else:\n",
    "            self.assign_labels(current.left,subroot)\n",
    "            self.assign_labels(current.right,subroot)\n",
    "            \n",
    "    def active_sampling(self,prunning:List[int])->int:\n",
    "        \"\"\"\n",
    "        Active sampling of query prunning.\n",
    "\n",
    "        Parameters\n",
    "        ----------\n",
    "        prunning : List[int]\n",
    "            The current prunning of the tree.\n",
    "\n",
    "        Returns\n",
    "        -------\n",
    "        int\n",
    "            The node of prunning need to explore.\n",
    "\n",
    "        \"\"\"\n",
    "        p_LB = self.p_LB[prunning]\n",
    "        w = self.leaves_count[prunning]\n",
    "        L = self.major_label[prunning]\n",
    "        p_LB = p_LB[np.arange(len(p_LB)),L]\n",
    "        prob = w*(1-p_LB)\n",
    "        if np.sum(prob) == 0:\n",
    "            return choice(prunning)\n",
    "        prob = prob/prob.sum()\n",
    "        return choice(prunning,p = prob)\n",
    "            \n",
    "            "
   ]
  },
  {
   "cell_type": "code",
   "execution_count": 7,
   "metadata": {},
   "outputs": [
    {
     "data": {
      "text/plain": [
       "1.0"
      ]
     },
     "execution_count": 7,
     "metadata": {},
     "output_type": "execute_result"
    }
   ],
   "source": [
    "import math\n",
    "math.log10(10)"
   ]
  },
  {
   "cell_type": "code",
   "execution_count": 2,
   "metadata": {},
   "outputs": [
    {
     "name": "stdout",
     "output_type": "stream",
     "text": [
      "Begin DH naive sampling.\n",
      "Currently on trail 0\n",
      "Currently on trail 1\n",
      "Currently on trail 2\n",
      "Currently on trail 3\n",
      "Currently on trail 4\n",
      "Begin DH active sampling.\n",
      "Currently on trail 0\n",
      "Currently on trail 1\n",
      "Currently on trail 2\n",
      "Currently on trail 3\n",
      "Currently on trail 4\n"
     ]
    },
    {
     "data": {
      "image/png": "[encoded data removed]",
      "text/plain": [
       "<Figure size 432x288 with 2 Axes>"
      ]
     },
     "metadata": {
      "needs_background": "light"
     },
     "output_type": "display_data"
    }
   ],
   "source": [
    "\"\"\"\n",
    "Created on Wed Mar  3 17:47:12 2021\n",
    "\n",
    "@author: Haotian Teng\n",
    "\"\"\"\n",
    "\n",
    "\n",
    "import copy\n",
    "import warnings\n",
    "import numpy as np \n",
    "import pandas as pd\n",
    "from typing import List\n",
    "import matplotlib.pyplot as plt\n",
    "from numpy.random import choice\n",
    "from scipy.cluster.hierarchy import linkage\n",
    "from sklearn.datasets import make_blobs\n",
    "from sklearn.model_selection import train_test_split\n",
    "from sklearn.ensemble import RandomForestClassifier\n",
    "from sklearn.ensemble import GradientBoostingClassifier\n",
    "from sklearn.linear_model import LogisticRegression\n",
    "from scipy.cluster.hierarchy import ClusterNode\n",
    "warnings.filterwarnings(\"ignore\")\n",
    "def load_data(seed:int = 2021,\n",
    "              filter_class:List[str] = None):\n",
    "    \"\"\"\n",
    "    Loads \"Protein Localizataion Prediction\" data. Computes linkage from hierarchical clustering.\n",
    "\n",
    "    Parameters\n",
    "    ----------\n",
    "    seed : int, optional\n",
    "        A random seed. The default is 2021.\n",
    "    filter_class : List[str], optional\n",
    "        The labels of the samples to be used. The default is None.\n",
    "\n",
    "    Returns\n",
    "    -------\n",
    "    X_train:  np.ndarray\n",
    "        A N-by-M matrix where N is the number of sample and M is the number of\n",
    "        features, used as training set.\n",
    "    y_train : np.ndarray\n",
    "        A length N vector, N is the number of samples. The label of the \n",
    "        training set.\n",
    "    X_test : np.ndarray\n",
    "        DESCRIPTION.\n",
    "    y_test : np.ndarray\n",
    "        DESCRIPTION.\n",
    "    Z : np.ndarray\n",
    "        A N-by-4 linkage matrix return by the scipy.cluster.hierarchy.linkage\n",
    "        method for the training dataset, where N is the number sample - 1.\n",
    "    class_n : int\n",
    "        Number of classes.\n",
    "\n",
    "    \"\"\"\n",
    "\n",
    "    df = pd.read_csv('data/Localization.csv')\n",
    "    class_n = len(np.unique(df.Label))\n",
    "    mask = df.Label ==0\n",
    "    if not filter_class:\n",
    "        filter_class = np.unique(df.Label)\n",
    "    for x in filter_class:\n",
    "        mask = mask | (df.Label==x)\n",
    "    df = df[mask]\n",
    "    X = df.iloc[:,:8].to_numpy()\n",
    "    y = df.Label.astype('category').cat.codes.to_numpy()\n",
    "    X, X_test, y, y_test = train_test_split(X,y,test_size = 0.2, random_state = seed)\n",
    "    Z = linkage(X,method='ward')\n",
    "\n",
    "    return X.astype(\"float\"), y, X_test, y_test, Z , class_n\n",
    "\n",
    "\n",
    "def compute_error(L:np.ndarray,labels:np.ndarray)->float:\n",
    "    \"\"\"\n",
    "    Compute the error between the major label and the true label.\n",
    "\n",
    "    Parameters\n",
    "    ----------\n",
    "    L : np.ndarray\n",
    "        labeling of leaf nodes.\n",
    "    labels : np.ndarray\n",
    "        true labels of each node.\n",
    "\n",
    "    Returns\n",
    "    -------\n",
    "    error : float\n",
    "        error of predictions.\n",
    "\n",
    "    \"\"\"\n",
    "\n",
    "    wrong = 0\n",
    "    wrong = (L[:len(labels)]!=labels).sum()\n",
    "    error = wrong/len(labels)\n",
    "    return error\n",
    "\n",
    "def prob_by_weight(nodes:List[int], count:List[int])->List[int]:\n",
    "    \"\"\"\n",
    "    Get the probability of the given nodes list according to their weight.\n",
    "\n",
    "    Parameters\n",
    "    ----------\n",
    "    nodes : List[int]\n",
    "        The nodes list.\n",
    "    count : List[int]\n",
    "        Leaves count of the whole tree.\n",
    "\n",
    "    Returns\n",
    "    -------\n",
    "    List[int]\n",
    "        Leaves count of the given node list.\n",
    "\n",
    "    \"\"\"\n",
    "    c = count[nodes]\n",
    "    return c/c.sum()\n",
    "\n",
    "def query_by_weight(prunning:List[int],leaves_count:List[int]):\n",
    "    prob = prob_by_weight(prunning, leaves_count)\n",
    "    return choice(prunning,p = prob)\n",
    "\n",
    "def DH_sampling(x_train:np.ndarray,\n",
    "                y_train:np.ndarray,\n",
    "                linkage:np.ndarray,\n",
    "                budget:int,\n",
    "                batch_size:int,\n",
    "                sampling_method:str = \"active\"):\n",
    "    \"\"\"\n",
    "    Conduct Hierchical sampling on the given dataset.\n",
    "\n",
    "    Parameters\n",
    "    ----------\n",
    "    x_train : np.ndarray\n",
    "        Training input.\n",
    "    y_train : np.ndarray\n",
    "        True label.\n",
    "    linkage: np.ndarray\n",
    "        The linkage matrix from scipy.cluster.hierarchy.linkage.\n",
    "    budget : int\n",
    "        Number of query.\n",
    "    batch_size : int\n",
    "        Query sample batch size.\n",
    "    sampling_method : str, optional\n",
    "        Sampling method, can be one of the following:\"naive\", \"active\". \n",
    "        The default is \"active\".\n",
    "\n",
    "    Returns\n",
    "    -------\n",
    "    queries : List\n",
    "        A list of actual query times.\n",
    "    error : List\n",
    "        A list of the label error rate.\n",
    "\n",
    "    \"\"\"\n",
    "    hs = HierarchicalSampling(linkage,x_train.shape[0],class_n)\n",
    "    P = np.array([hs.btree.id]) #The prunning.\n",
    "    error = []\n",
    "    query_time = 0\n",
    "    queries = []\n",
    "\n",
    "    for i in np.arange(budget):\n",
    "        for b in np.arange(batch_size):\n",
    "            \n",
    "            # Select a new node to expand by the weight.\n",
    "            if sampling_method == \"active\":\n",
    "                v = hs.active_sampling(P)\n",
    "            elif sampling_method == \"naive\":\n",
    "                v = query_by_weight(P,hs.leaves_count)\n",
    "            \n",
    "            # Pick a random leaf node from the subtree rooted at selected node.\n",
    "            leaves = hs.get_leaves(v)\n",
    "            leaf = np.random.choice(leaves)\n",
    "            if not leaf.queryed:\n",
    "                query_time+=1\n",
    "            label = y_train[leaf.id]\n",
    "            # update empirical counts and probabilityies for nodes on path\n",
    "            # from the selected leaf to the selected subtree root.\n",
    "            hs.update_empirical(leaf,v,label)\n",
    "        hs.update_admissible(BETA)\n",
    "        P = hs.best_pruning_and_labeling(P)\n",
    "        for p in P:\n",
    "            hs.assign_labels(p, p)\n",
    "        error.append(compute_error(hs.major_label,y_train))\n",
    "        queries.append(query_time) \n",
    "    return queries, error, hs,P\n",
    "\n",
    "if __name__ == \"__main__\":\n",
    "    CLASSES = ['MIT','NUC','CYT','ERL']\n",
    "    X_train, y_train, X_test, y_test, Z ,_ = load_data(filter_class = CLASSES)\n",
    "    class_n = len(CLASSES)\n",
    "    \n",
    "    BUDGET = 200\n",
    "    BATCH_SIZE = 10\n",
    "    BETA = 2.0\n",
    "    N_TRAILS = 5\n",
    "    figs,axs = plt.subplots(ncols = 2)\n",
    "    ### naive sampling\n",
    "    l_naive = np.zeros(BUDGET)\n",
    "    print(\"Begin DH naive sampling.\")\n",
    "    for i in np.arange(N_TRAILS):\n",
    "        print(\"Currently on trail %d\"%(i))\n",
    "        queries,error,hs,P = DH_sampling(X_train,y_train,Z,BUDGET,BATCH_SIZE,sampling_method=\"naive\")\n",
    "        l_naive+=error\n",
    "    l_naive = l_naive/N_TRAILS\n",
    "    axs[0].plot(l_naive,label = \"Naive sampling\")\n",
    "    axs[1].plot(queries, error, label = \"Naive sampling with real quiries.\")\n",
    "    \n",
    "    ## active sampling\n",
    "    l_active = np.zeros(BUDGET)\n",
    "    print(\"Begin DH active sampling.\")\n",
    "    for i in np.arange(N_TRAILS):\n",
    "        print(\"Currently on trail %d\"%(i))\n",
    "        queries,error,hs,P = DH_sampling(X_train,y_train,Z,BUDGET,BATCH_SIZE,sampling_method=\"active\")\n",
    "        l_active+=error\n",
    "    l_active = l_active/N_TRAILS\n",
    "    axs[0].plot(l_active,label = \"Active sampling\")\n",
    "    axs[1].plot(queries, error, label = \"Naive sampling with real quiries.\")\n",
    "    plt.legend()"
   ]
  },
  {
   "cell_type": "code",
   "execution_count": 5,
   "metadata": {},
   "outputs": [
    {
     "name": "stdout",
     "output_type": "stream",
     "text": [
      "329\n"
     ]
    }
   ],
   "source": [
    "print(len(P))"
   ]
  },
  {
   "cell_type": "code",
   "execution_count": 4,
   "metadata": {},
   "outputs": [
    {
     "name": "stdout",
     "output_type": "stream",
     "text": [
      "912\n"
     ]
    }
   ],
   "source": [
    "X_train, y_train, X_test, y_test, Z ,_ = load_data(filter_class = CLASSES)\n",
    "print(len(X_train))"
   ]
  },
  {
   "cell_type": "code",
   "execution_count": 17,
   "metadata": {},
   "outputs": [
    {
     "name": "stdout",
     "output_type": "stream",
     "text": [
      "912 4 <scipy.cluster.hierarchy.ClusterNode object at 0x00000188EF86D9D0> 1823\n",
      "1823\n"
     ]
    }
   ],
   "source": [
    "'''\n",
    "        self.n_samples = n_samples\n",
    "        self.n_class = n_class\n",
    "        self.btree, self.node_list = self._construct_btree(linkage)\n",
    "        self.lc = np.array([x.count for x in self.node_list],dtype = np.int)\n",
    "        self.n_nodes = len(self.node_list)\n",
    "        self.major_label = np.zeros(self.n_nodes,dtype = np.int)\n",
    "        self.c = np.zeros((self.n_nodes,n_class)) \n",
    "        #the count of each class in points sampled from node.\n",
    "        self.p = np.zeros((self.n_nodes,n_class))\n",
    "        #the fraction of each class in points sampled from node.\n",
    "        self.sampled = np.zeros(self.n_nodes)\n",
    "        #the number of points sampled in the subtree rooted at each node.\n",
    "        self.A = np.zeros((self.n_nodes,n_class),dtype = bool)\n",
    "        #the admmisible score of node i and label l.\n",
    "        self.p_LB = np.zeros((self.n_nodes,n_class))\n",
    "        #the lower bound of the probability for node i and label l.\n",
    "'''\n",
    "print(hs.n_samples, hs.n_class, hs.btree, hs.n_nodes)\n",
    "print(len(hs.node_list))"
   ]
  },
  {
   "cell_type": "code",
   "execution_count": 20,
   "metadata": {},
   "outputs": [
    {
     "name": "stdout",
     "output_type": "stream",
     "text": [
      "(911, 4)\n"
     ]
    }
   ],
   "source": [
    "print(Z.shape)\n",
    "btree, node_list = to_tree(Z,rd = True)"
   ]
  },
  {
   "cell_type": "code",
   "execution_count": 25,
   "metadata": {},
   "outputs": [
    {
     "name": "stdout",
     "output_type": "stream",
     "text": [
      "[0 0 2 ... 0 0 0]\n",
      "1823\n"
     ]
    }
   ],
   "source": [
    "print(hs.major_label)\n",
    "print(len(hs.major_label))"
   ]
  },
  {
   "cell_type": "code",
   "execution_count": null,
   "metadata": {},
   "outputs": [],
   "source": [
    "# your code\n",
    "\"\"\"\n",
    "Implementation of Hierarchical Sampling: \n",
    "    In this part, we utilized Hierarchical Sampling to generate a new fully-labelled training set from X_pool. \n",
    "    Then the logistic regression is trained on the generated training set in increment amount (300 - 3000).  \n",
    "\"\"\"\n",
    "class Hierarchical_Sampling(object):\n",
    "    \"\"\"\n",
    "    The Hierarchical_Sampling class contains intermediate variables and necessary functions. \n",
    "    \"\"\"\n",
    "    def __init__(self, )"
   ]
  }
 ],
 "metadata": {
  "kernelspec": {
   "display_name": "Python 3",
   "language": "python",
   "name": "python3"
  },
  "language_info": {
   "codemirror_mode": {
    "name": "ipython",
    "version": 3
   },
   "file_extension": ".py",
   "mimetype": "text/x-python",
   "name": "python",
   "nbconvert_exporter": "python",
   "pygments_lexer": "ipython3",
   "version": "3.8.3"
  }
 },
 "nbformat": 4,
 "nbformat_minor": 5
}
